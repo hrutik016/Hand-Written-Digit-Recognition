{
 "cells": [
  {
   "cell_type": "code",
   "execution_count": 1,
   "metadata": {},
   "outputs": [],
   "source": [
    "import numpy as np\n",
    "from keras.datasets import mnist\n",
    "import tensorflow as tf"
   ]
  },
  {
   "cell_type": "code",
   "execution_count": 2,
   "metadata": {},
   "outputs": [],
   "source": [
    "# MNIST dataset parameters\n",
    "num_classes = 10 # total classes (0-9 digits)\n",
    "num_features = 784 # data features (img shape: 28*28)\n",
    "\n",
    "(x_train, y_train), (x_test, y_test) = mnist.load_data()\n",
    "\n",
    "# Convert to float32\n",
    "x_train, x_test = np.array(x_train, np.float32), np.array(x_test, np.float32)\n",
    "\n",
    "# Flatten images to 1-D vector of 784 features (28*28)\n",
    "x_train, x_test = x_train.reshape([-1, num_features]), x_test.reshape([-1, num_features])\n",
    "\n",
    "# Normalize images value from [0, 255] to [0, 1]\n",
    "x_train, x_test = x_train / 255., x_test / 255."
   ]
  },
  {
   "cell_type": "code",
   "execution_count": 3,
   "metadata": {},
   "outputs": [
    {
     "data": {
      "image/png": "[encoded data removed]",
      "text/plain": [
       "<Figure size 432x288 with 1 Axes>"
      ]
     },
     "metadata": {
      "needs_background": "light"
     },
     "output_type": "display_data"
    }
   ],
   "source": [
    "%matplotlib inline\n",
    "\n",
    "import matplotlib.pyplot as plt\n",
    "\n",
    "def display_sample(num):\n",
    "    #Print this sample's label \n",
    "    label = y_train[num] \n",
    "    \n",
    "    #Reshape the 784 values to a 28x28 image\n",
    "    image = x_train[num].reshape([28,28])\n",
    "    plt.title('Sample: %d  Label: %d' % (num, label))\n",
    "    plt.imshow(image, cmap=plt.get_cmap('gray_r'))\n",
    "    plt.show()\n",
    "    \n",
    "display_sample(2000)"
   ]
  },
  {
   "cell_type": "code",
   "execution_count": 4,
   "metadata": {},
   "outputs": [
    {
     "data": {
      "image/png": "[encoded data removed]",
      "text/plain": [
       "<Figure size 432x288 with 1 Axes>"
      ]
     },
     "metadata": {
      "needs_background": "light"
     },
     "output_type": "display_data"
    }
   ],
   "source": [
    "images = x_train[0].reshape([1, 784])\n",
    "for i in range(1, 10):\n",
    "    images = np.concatenate((images, x_train[i].reshape([1, 784])))  \n",
    "plt.imshow(images, cmap=plt.get_cmap('gray_r'))\n",
    "plt.show()"
   ]
  },
  {
   "cell_type": "code",
   "execution_count": 5,
   "metadata": {},
   "outputs": [],
   "source": [
    "# Training parameters.\n",
    "learning_rate = 0.001\n",
    "training_steps = 3000     #The epoch value basically\n",
    "batch_size = 250          #No. of samples in one batch\n",
    "display_step = 100        #Display the change in the neural network or how much it has converged after 100 steps\n",
    "\n",
    "# Network parameters.\n",
    "n_hidden = 512 # Number of neurons."
   ]
  },
  {
   "cell_type": "code",
   "execution_count": 6,
   "metadata": {},
   "outputs": [],
   "source": [
    "# Use tf.data API to shuffle and batch data.\n",
    "train_data = tf.data.Dataset.from_tensor_slices((x_train, y_train))             \n",
    "train_data = train_data.repeat().shuffle(60000).batch(batch_size).prefetch(1)"
   ]
  },
  {
   "cell_type": "code",
   "execution_count": 7,
   "metadata": {},
   "outputs": [],
   "source": [
    "# Store layers weight & bias\n",
    "\n",
    "# A random value generator to initialize weights initially\n",
    "random_normal = tf.initializers.RandomNormal()\n",
    "\n",
    "weights = {\n",
    "    'h': tf.Variable(random_normal([num_features, n_hidden])),    \n",
    "    #the above function will create 784 variables that contain the weights of the hidden layer \n",
    "    'out': tf.Variable(random_normal([n_hidden, num_classes]))\n",
    "    #need a set of 10 output variables for our output neurons\n",
    "}\n",
    "biases = {\n",
    "    'b': tf.Variable(tf.zeros([n_hidden])),\n",
    "    #we need 512 variables to create biases \n",
    "    'out': tf.Variable(tf.zeros([num_classes]))\n",
    "    #we also have biases associated with our output layer having 10 variable \n",
    "    #by default we want our biases should be zero\n",
    "}"
   ]
  },
  {
   "cell_type": "code",
   "execution_count": 8,
   "metadata": {},
   "outputs": [],
   "source": [
    "# Create model.\n",
    "def neural_net(inputData):\n",
    "    #here we basically mdo matrix multiplication of the 714 pixel values with the biases\n",
    "    #we then add the product matrix with the bias matrix\n",
    "    \n",
    "    hidden_layer = tf.add(tf.matmul(inputData, weights['h']), biases['b'])\n",
    "    \n",
    "    # Apply sigmoid to hidden_layer output for non-linearity.\n",
    "    #here sigmoid is acting as an activation function\n",
    "    \n",
    "    hidden_layer = tf.nn.sigmoid(hidden_layer)\n",
    "    \n",
    "    #we do the same to our output layer matrix multiplication of hidden layer abd output weights\n",
    "    #add the output bias matrix to the product matrix that we get\n",
    "    # Output fully connected layer with a neuron for each class.\n",
    "    \n",
    "    out_layer = tf.matmul(hidden_layer, weights['out']) + biases['out']\n",
    "    \n",
    "    # Apply softmax to normalize the logits to a probability distribution.\n",
    "    \n",
    "    return tf.nn.softmax(out_layer)"
   ]
  },
  {
   "cell_type": "code",
   "execution_count": 9,
   "metadata": {},
   "outputs": [],
   "source": [
    "def cross_entropy(y_pred, y_true):\n",
    "    # Encode label to a one hot vector.\n",
    "    y_true = tf.one_hot(y_true, depth=num_classes)\n",
    "    # Clip prediction values to avoid log(0) error.\n",
    "    y_pred = tf.clip_by_value(y_pred, 1e-9, 1.)\n",
    "    # Compute cross-entropy.\n",
    "    return tf.reduce_mean(-tf.reduce_sum(y_true * tf.math.log(y_pred))) ########## Do not understand this ##########"
   ]
  },
  {
   "cell_type": "code",
   "execution_count": 10,
   "metadata": {},
   "outputs": [],
   "source": [
    "optimizer = tf.keras.optimizers.SGD(learning_rate)\n",
    "\n",
    "def run_optimization(x, y):\n",
    "    # Wrap computation inside a GradientTape for automatic differentiation.\n",
    "    with tf.GradientTape() as g:\n",
    "        pred = neural_net(x)\n",
    "        loss = cross_entropy(pred, y)\n",
    "        \n",
    "    # Variables to update, i.e. trainable variables.\n",
    "    trainable_variables = list(weights.values()) + list(biases.values())\n",
    "\n",
    "    # Compute gradients.\n",
    "    gradients = g.gradient(loss, trainable_variables)\n",
    "    \n",
    "    # Update W and b following gradients.\n",
    "    optimizer.apply_gradients(zip(gradients, trainable_variables))"
   ]
  },
  {
   "cell_type": "code",
   "execution_count": 11,
   "metadata": {},
   "outputs": [],
   "source": [
    "# Accuracy metric.\n",
    "def accuracy(y_pred, y_true):\n",
    "    # Predicted class is the index of highest score in prediction vector (i.e. argmax).\n",
    "    correct_prediction = tf.equal(tf.argmax(y_pred, 1), tf.cast(y_true, tf.int64))\n",
    "    return tf.reduce_mean(tf.cast(correct_prediction, tf.float32), axis=-1)"
   ]
  },
  {
   "cell_type": "code",
   "execution_count": 12,
   "metadata": {},
   "outputs": [
    {
     "name": "stdout",
     "output_type": "stream",
     "text": [
      "Training epoch: 100, Loss: 154.831573, Accuracy: 0.828000\n",
      "Training epoch: 200, Loss: 122.102844, Accuracy: 0.856000\n",
      "Training epoch: 300, Loss: 110.032707, Accuracy: 0.900000\n",
      "Training epoch: 400, Loss: 88.254623, Accuracy: 0.904000\n",
      "Training epoch: 500, Loss: 97.741333, Accuracy: 0.880000\n",
      "Training epoch: 600, Loss: 70.574760, Accuracy: 0.896000\n",
      "Training epoch: 700, Loss: 96.237183, Accuracy: 0.892000\n",
      "Training epoch: 800, Loss: 76.956558, Accuracy: 0.904000\n",
      "Training epoch: 900, Loss: 68.374893, Accuracy: 0.920000\n",
      "Training epoch: 1000, Loss: 84.769165, Accuracy: 0.928000\n",
      "Training epoch: 1100, Loss: 76.046646, Accuracy: 0.912000\n",
      "Training epoch: 1200, Loss: 79.408707, Accuracy: 0.892000\n",
      "Training epoch: 1300, Loss: 82.823547, Accuracy: 0.900000\n",
      "Training epoch: 1400, Loss: 49.641277, Accuracy: 0.936000\n",
      "Training epoch: 1500, Loss: 46.234005, Accuracy: 0.936000\n",
      "Training epoch: 1600, Loss: 65.429962, Accuracy: 0.932000\n",
      "Training epoch: 1700, Loss: 71.820282, Accuracy: 0.916000\n",
      "Training epoch: 1800, Loss: 50.617310, Accuracy: 0.948000\n",
      "Training epoch: 1900, Loss: 88.778748, Accuracy: 0.908000\n",
      "Training epoch: 2000, Loss: 68.485306, Accuracy: 0.920000\n",
      "Training epoch: 2100, Loss: 47.041824, Accuracy: 0.932000\n",
      "Training epoch: 2200, Loss: 92.665733, Accuracy: 0.904000\n",
      "Training epoch: 2300, Loss: 67.967537, Accuracy: 0.912000\n",
      "Training epoch: 2400, Loss: 62.695507, Accuracy: 0.920000\n",
      "Training epoch: 2500, Loss: 53.839642, Accuracy: 0.956000\n",
      "Training epoch: 2600, Loss: 47.994877, Accuracy: 0.960000\n",
      "Training epoch: 2700, Loss: 50.914383, Accuracy: 0.944000\n",
      "Training epoch: 2800, Loss: 66.075302, Accuracy: 0.932000\n",
      "Training epoch: 2900, Loss: 65.268295, Accuracy: 0.912000\n",
      "Training epoch: 3000, Loss: 47.971123, Accuracy: 0.940000\n"
     ]
    }
   ],
   "source": [
    "# Run training for the given number of steps.\n",
    "for step, (batch_x, batch_y) in enumerate(train_data.take(training_steps), 1):\n",
    "    # Run the optimization to update W and b values.\n",
    "    run_optimization(batch_x, batch_y)\n",
    "    \n",
    "    if step % display_step == 0:\n",
    "        pred = neural_net(batch_x)                  #After every 100 cycle the data is fed to the neural network  \n",
    "        loss = cross_entropy(pred, batch_y)         #loss here represents the accuracy and using cross_entropy function we can also penalize the wrong values\n",
    "        acc = accuracy(pred, batch_y)               #finds accuracy of the test data   \n",
    "        print(\"Training epoch: %i, Loss: %f, Accuracy: %f\" % (step, loss, acc))"
   ]
  },
  {
   "cell_type": "code",
   "execution_count": 13,
   "metadata": {},
   "outputs": [
    {
     "name": "stdout",
     "output_type": "stream",
     "text": [
      "Test Accuracy: 0.932300\n"
     ]
    }
   ],
   "source": [
    "# Test model on validation set.\n",
    "pred = neural_net(x_test)\n",
    "print(\"Test Accuracy: %f\" % accuracy(pred, y_test))"
   ]
  },
  {
   "cell_type": "code",
   "execution_count": 14,
   "metadata": {},
   "outputs": [
    {
     "data": {
      "image/png": "[encoded data removed]",
      "text/plain": [
       "<Figure size 432x288 with 1 Axes>"
      ]
     },
     "metadata": {
      "needs_background": "light"
     },
     "output_type": "display_data"
    },
    {
     "name": "stdout",
     "output_type": "stream",
     "text": [
      "Original Labels: 5\n",
      "Model prediction: 6\n"
     ]
    },
    {
     "data": {
      "image/png": "[encoded data removed]",
      "text/plain": [
       "<Figure size 432x288 with 1 Axes>"
      ]
     },
     "metadata": {
      "needs_background": "light"
     },
     "output_type": "display_data"
    },
    {
     "name": "stdout",
     "output_type": "stream",
     "text": [
      "Original Labels: 4\n",
      "Model prediction: 6\n"
     ]
    },
    {
     "data": {
      "image/png": "[encoded data removed]",
      "text/plain": [
       "<Figure size 432x288 with 1 Axes>"
      ]
     },
     "metadata": {
      "needs_background": "light"
     },
     "output_type": "display_data"
    },
    {
     "name": "stdout",
     "output_type": "stream",
     "text": [
      "Original Labels: 3\n",
      "Model prediction: 2\n"
     ]
    },
    {
     "data": {
      "image/png": "[encoded data removed]",
      "text/plain": [
       "<Figure size 432x288 with 1 Axes>"
      ]
     },
     "metadata": {
      "needs_background": "light"
     },
     "output_type": "display_data"
    },
    {
     "name": "stdout",
     "output_type": "stream",
     "text": [
      "Original Labels: 6\n",
      "Model prediction: 2\n"
     ]
    },
    {
     "data": {
      "image/png": "[encoded data removed]",
      "text/plain": [
       "<Figure size 432x288 with 1 Axes>"
      ]
     },
     "metadata": {
      "needs_background": "light"
     },
     "output_type": "display_data"
    },
    {
     "name": "stdout",
     "output_type": "stream",
     "text": [
      "Original Labels: 7\n",
      "Model prediction: 4\n"
     ]
    },
    {
     "data": {
      "image/png": "[encoded data removed]",
      "text/plain": [
       "<Figure size 432x288 with 1 Axes>"
      ]
     },
     "metadata": {
      "needs_background": "light"
     },
     "output_type": "display_data"
    },
    {
     "name": "stdout",
     "output_type": "stream",
     "text": [
      "Original Labels: 2\n",
      "Model prediction: 9\n"
     ]
    },
    {
     "data": {
      "image/png": "[encoded data removed]",
      "text/plain": [
       "<Figure size 432x288 with 1 Axes>"
      ]
     },
     "metadata": {
      "needs_background": "light"
     },
     "output_type": "display_data"
    },
    {
     "name": "stdout",
     "output_type": "stream",
     "text": [
      "Original Labels: 9\n",
      "Model prediction: 4\n"
     ]
    },
    {
     "data": {
      "image/png": "[encoded data removed]",
      "text/plain": [
       "<Figure size 432x288 with 1 Axes>"
      ]
     },
     "metadata": {
      "needs_background": "light"
     },
     "output_type": "display_data"
    },
    {
     "name": "stdout",
     "output_type": "stream",
     "text": [
      "Original Labels: 3\n",
      "Model prediction: 5\n"
     ]
    }
   ],
   "source": [
    "n_images = 200\n",
    "test_images = x_test[:n_images]\n",
    "test_labels = y_test[:n_images]\n",
    "predictions = neural_net(test_images)\n",
    "\n",
    "for i in range(n_images):\n",
    "    model_prediction = np.argmax(predictions.numpy()[i])\n",
    "    if (model_prediction != test_labels[i]):\n",
    "        plt.imshow(np.reshape(test_images[i], [28, 28]), cmap='gray_r')\n",
    "        plt.show()\n",
    "        print(\"Original Labels: %i\" % test_labels[i])\n",
    "        print(\"Model prediction: %i\" % model_prediction)"
   ]
  }
 ],
 "metadata": {
  "kernelspec": {
   "display_name": "Python 3",
   "language": "python",
   "name": "python3"
  },
  "language_info": {
   "codemirror_mode": {
    "name": "ipython",
    "version": 3
   },
   "file_extension": ".py",
   "mimetype": "text/x-python",
   "name": "python",
   "nbconvert_exporter": "python",
   "pygments_lexer": "ipython3",
   "version": "3.8.3"
  }
 },
 "nbformat": 4,
 "nbformat_minor": 4
}
